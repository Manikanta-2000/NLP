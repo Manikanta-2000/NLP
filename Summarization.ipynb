{
 "cells": [
  {
   "cell_type": "markdown",
   "id": "985f9f27",
   "metadata": {},
   "source": [
    "# Extractive Text Summarization "
   ]
  },
  {
   "cell_type": "markdown",
   "metadata": {},
   "source": [
    "References: \n",
    "1) https://stackabuse.com/text-summarization-with-nltk-in-python/"
   ]
  },
  {
   "cell_type": "markdown",
   "metadata": {},
   "source": [
    "2) https://www.mygreatlearning.com/blog/text-summarization-in-python/ From the above pages logic has been build for exractive text summarization"
   ]
  },
  {
   "cell_type": "markdown",
   "metadata": {},
   "source": [
    "3) https://www.kaggle.com/code/vshantam/text-summarization-extractive-bleu/input From the above link articles and their summaries were taken for validation The folder BBC News Summary was donwloaded from above link"
   ]
  },
  {
   "cell_type": "code",
   "execution_count": 1,
   "id": "5d7e5dd3",
   "metadata": {},
   "outputs": [],
   "source": [
    "import re"
   ]
  },
  {
   "cell_type": "code",
   "execution_count": 2,
   "id": "7a62c140",
   "metadata": {},
   "outputs": [],
   "source": [
    "#splits the texts in to sentences\n",
    "pattern = r'[.!?\\n]+'\n",
    "def tokenize_sentences(text):\n",
    "    sentences = re.split(pattern,text)\n",
    "    while (\"\" in sentences):\n",
    "        sentences.remove(\"\")\n",
    "    while(\" \" in sentences):\n",
    "        sentences.remove(\" \")\n",
    "    return sentences"
   ]
  },
  {
   "cell_type": "code",
   "execution_count": 3,
   "id": "dc22f859",
   "metadata": {},
   "outputs": [
    {
     "name": "stderr",
     "output_type": "stream",
     "text": [
      "ERROR: Could not find a version that satisfies the requirement ntlk (from versions: none)\n",
      "ERROR: No matching distribution found for ntlk\n"
     ]
    }
   ],
   "source": [
    "!pip install ntlk"
   ]
  },
  {
   "cell_type": "code",
   "execution_count": 4,
   "id": "6e028561",
   "metadata": {},
   "outputs": [
    {
     "name": "stderr",
     "output_type": "stream",
     "text": [
      "[nltk_data] Downloading package stopwords to\n",
      "[nltk_data]     C:\\Users\\manik\\AppData\\Roaming\\nltk_data...\n",
      "[nltk_data]   Package stopwords is already up-to-date!\n",
      "[nltk_data] Downloading package punkt to\n",
      "[nltk_data]     C:\\Users\\manik\\AppData\\Roaming\\nltk_data...\n",
      "[nltk_data]   Package punkt is already up-to-date!\n"
     ]
    }
   ],
   "source": [
    "import nltk\n",
    "nltk.download('stopwords')\n",
    "nltk.download('punkt')\n",
    "from nltk.corpus import stopwords\n",
    "from nltk.tokenize import word_tokenize"
   ]
  },
  {
   "cell_type": "code",
   "execution_count": 5,
   "id": "5eaf2eb9",
   "metadata": {},
   "outputs": [],
   "source": [
    "def remove_stopwords(sentences):\n",
    "    stop_words= set(stopwords.words('english'))\n",
    "    updated_sentences = []\n",
    "    for i in sentences:\n",
    "        words = word_tokenize(i)\n",
    "        cleaned_words = [word for word in words if word.lower() not in stop_words and word.isalpha()]\n",
    "        cleaned_sentence = ' '.join(cleaned_words)\n",
    "        updated_sentences.append(cleaned_sentence)\n",
    "    return updated_sentences"
   ]
  },
  {
   "cell_type": "code",
   "execution_count": 6,
   "id": "f2f2b064",
   "metadata": {},
   "outputs": [],
   "source": [
    "def generate_tokens(sentences):\n",
    "    all_tokens=[]\n",
    "    for i in sentences:\n",
    "        all_tokens.extend(i.split(\" \"))\n",
    "    return all_tokens"
   ]
  },
  {
   "cell_type": "code",
   "execution_count": 7,
   "id": "25451d64",
   "metadata": {},
   "outputs": [],
   "source": [
    "from collections import OrderedDict\n",
    "def word_frequency(all_tokens):\n",
    "    wordfrequencies = OrderedDict()\n",
    "    for i in all_tokens:\n",
    "        if i.lower() not in wordfrequencies:\n",
    "            wordfrequencies[i.lower()] = 1\n",
    "        else:\n",
    "            wordfrequencies[i.lower()]+=1\n",
    "    return wordfrequencies"
   ]
  },
  {
   "cell_type": "code",
   "execution_count": 8,
   "id": "533328ee",
   "metadata": {},
   "outputs": [],
   "source": [
    "from collections import OrderedDict\n",
    "def weighted_frequency(wordfrequencies):\n",
    "    max_frequency = max(wordfrequencies.values())\n",
    "    weighted_frequencies = OrderedDict()\n",
    "    for i in wordfrequencies:\n",
    "        weighted_frequencies[i] = wordfrequencies[i]/max_frequency\n",
    "    return weighted_frequencies"
   ]
  },
  {
   "cell_type": "code",
   "execution_count": 9,
   "id": "4bc7e4ee",
   "metadata": {},
   "outputs": [],
   "source": [
    "from collections import OrderedDict\n",
    "def sentence_frequency(sentences,weighted_frequencies):\n",
    "    sentence_weighted_frequency = OrderedDict()\n",
    "    pattern = r'[!\\\"#$%&\\'()*+,-./:;<=>?@\\[\\\\\\]^_`{|}~\\s]+'\n",
    "    for i in sentences:\n",
    "        weighted_frequency = 0\n",
    "        split_words = re.split(pattern,i)\n",
    "        for j in split_words:\n",
    "            if j.lower() not in weighted_frequencies:\n",
    "                weighted_frequency+=0\n",
    "            else:\n",
    "                weighted_frequency+=weighted_frequencies[j.lower()]\n",
    "        sentence_weighted_frequency[i]=weighted_frequency\n",
    "    return sentence_weighted_frequency"
   ]
  },
  {
   "cell_type": "code",
   "execution_count": 10,
   "id": "123e2bdd",
   "metadata": {},
   "outputs": [],
   "source": [
    "def threshold_frequency(sentence_weighted_frequency):\n",
    "    frequency_sum = sum(sentence_weighted_frequency.values())\n",
    "    length = len(sentence_weighted_frequency)\n",
    "    thresholdFrequency = frequency_sum/length\n",
    "    return thresholdFrequency"
   ]
  },
  {
   "cell_type": "code",
   "execution_count": 11,
   "id": "ef3f5432",
   "metadata": {},
   "outputs": [],
   "source": [
    "def final_summary(sentence_weighted_frequency,thresholdFrequency):\n",
    "    summary=\"\"\n",
    "    for i in sentence_weighted_frequency:\n",
    "        if sentence_weighted_frequency[i]>=thresholdFrequency:\n",
    "            if summary:\n",
    "                summary=summary+\". \"+i\n",
    "            else:\n",
    "                summary=summary+i\n",
    "    summary = summary+\".\"\n",
    "    return summary"
   ]
  },
  {
   "cell_type": "code",
   "execution_count": 12,
   "id": "62175ff7",
   "metadata": {},
   "outputs": [],
   "source": [
    "import nltk\n",
    "\n",
    "def bleu_score(generated_summary,actual_summary):\n",
    "    hypothesis = generated_summary\n",
    "    reference = actual_summary\n",
    "    BLEUscore = nltk.translate.bleu_score.sentence_bleu([reference], hypothesis)\n",
    "    return BLEUscore"
   ]
  },
  {
   "cell_type": "code",
   "execution_count": 13,
   "id": "a1548029",
   "metadata": {},
   "outputs": [],
   "source": [
    "def process_summarization(text):\n",
    "    sentences=tokenize_sentences(text)\n",
    "    updated_sentences = remove_stopwords(sentences)\n",
    "    all_tokens = generate_tokens(updated_sentences)\n",
    "    wordfrequencies = word_frequency(all_tokens)\n",
    "    weighted_frequencies = weighted_frequency(wordfrequencies)\n",
    "    sentence_weighted_frequency = sentence_frequency(sentences,weighted_frequencies)\n",
    "    thresholdFrequency = threshold_frequency(sentence_weighted_frequency)\n",
    "    generated_summary = final_summary(sentence_weighted_frequency,thresholdFrequency)\n",
    "    return generated_summary"
   ]
  },
  {
   "cell_type": "code",
   "execution_count": 14,
   "id": "6e9da077",
   "metadata": {},
   "outputs": [],
   "source": [
    "file1=open(\"./BBC News Summary/BBC News Summary/News Articles/entertainment/001.txt\",\"r+\")\n",
    "text=file1.read()\n",
    "file1.close()\n",
    "generated_summary=process_summarization(text)"
   ]
  },
  {
   "cell_type": "code",
   "execution_count": 15,
   "id": "a3fe5418",
   "metadata": {},
   "outputs": [
    {
     "data": {
      "text/plain": [
       "'A Christmas tree that can receive text messages has been unveiled at London\\'s Tate Britain art gallery.  The messages will be \"unwrapped\" by sculptor Richard Wentworth, who is responsible for decorating the tree with broken plates and light bulbs.  It is the 17th year that the gallery has invited an artist to dress their Christmas tree.  Artists who have decorated the Tate tree in previous years include Tracey Emin in 2002.  Wentworth is also known for his photography of mundane, everyday subjects such as a cigarette packet jammed under the wonky leg of a table.'"
      ]
     },
     "execution_count": 15,
     "metadata": {},
     "output_type": "execute_result"
    }
   ],
   "source": [
    "generated_summary"
   ]
  },
  {
   "cell_type": "code",
   "execution_count": 16,
   "id": "59c1e887",
   "metadata": {},
   "outputs": [],
   "source": [
    "summarized_file=open(\"./BBC News Summary/BBC News Summary/Summaries/entertainment/001.txt\",\"r+\")\n",
    "actual_summary=summarized_file.read()\n",
    "summarized_file.close()"
   ]
  },
  {
   "cell_type": "code",
   "execution_count": 17,
   "id": "35f49984",
   "metadata": {},
   "outputs": [
    {
     "data": {
      "text/plain": [
       "'The messages will be \"unwrapped\" by sculptor Richard Wentworth, who is responsible for decorating the tree with broken plates and light bulbs.A Christmas tree that can receive text messages has been unveiled at London\\'s Tate Britain art gallery.It is the 17th year that the gallery has invited an artist to dress their Christmas tree.The spruce has an antenna which can receive Bluetooth texts sent by visitors to the Tate.His reputation as a sculptor grew in the 1980s, while he has been one of the most influential teachers during the last two decades.'"
      ]
     },
     "execution_count": 17,
     "metadata": {},
     "output_type": "execute_result"
    }
   ],
   "source": [
    "actual_summary"
   ]
  },
  {
   "cell_type": "code",
   "execution_count": 18,
   "id": "6d62f3d5",
   "metadata": {},
   "outputs": [
    {
     "name": "stdout",
     "output_type": "stream",
     "text": [
      "BLEU_Score :  0.7272508579680038\n"
     ]
    }
   ],
   "source": [
    "print(\"BLEU_Score : \",bleu_score(generated_summary,actual_summary))"
   ]
  },
  {
   "cell_type": "code",
   "execution_count": 19,
   "id": "b90760e3",
   "metadata": {},
   "outputs": [],
   "source": [
    "file1=open(\"./BBC News Summary/BBC News Summary/News Articles/tech/100.txt\",\"r+\")\n",
    "text=file1.read()\n",
    "file1.close()"
   ]
  },
  {
   "cell_type": "code",
   "execution_count": 20,
   "id": "18698abd",
   "metadata": {},
   "outputs": [],
   "source": [
    "generated_summary=process_summarization(text)"
   ]
  },
  {
   "cell_type": "code",
   "execution_count": 21,
   "id": "f4dec9dd",
   "metadata": {},
   "outputs": [
    {
     "data": {
      "text/plain": [
       "'Leading British computer games maker Peter Molyneux has been made an OBE in the New Year Honours list. The head of Surrey\\'s Lionhead Studios was granted the honour for services to the computer games industry.  Mr Molyneux has been behind many of the ground-breaking games of the last 15 years such as Populous, Theme Park, Dungeon Keeper and Black and White. Speaking to the BBC News website Mr Molyneux said receiving the honour was something of a surprise. \" He said he was surprised as much because, not too long ago, many people thought computer gaming was a fad. \"It was thought to be like skateboarding,\" he said, \"a craze that everyone thought would go away. \" Mr Molyneux has been a pivotal figure in the computer games industry for almost 20 years.  His career started at Bullfrog Studios which in 1987 produced Populous one of the first God-games.  Mr Molyneux said that his involvement with the games industry started almost by accident as back in the early days game making was more a hobby than a career.  \"I thought everyone would treat Populous as weird,\" he said, \"but it became a huge international success.'"
      ]
     },
     "execution_count": 21,
     "metadata": {},
     "output_type": "execute_result"
    }
   ],
   "source": [
    "generated_summary"
   ]
  },
  {
   "cell_type": "code",
   "execution_count": 22,
   "id": "861fbb57",
   "metadata": {},
   "outputs": [],
   "source": [
    "summarized_file=open(\"./BBC News Summary/BBC News Summary/Summaries/tech/100.txt\",\"r+\")\n",
    "actual_summary=summarized_file.read()\n",
    "summarized_file.close()"
   ]
  },
  {
   "cell_type": "code",
   "execution_count": 23,
   "id": "5acc17f3",
   "metadata": {},
   "outputs": [
    {
     "data": {
      "text/plain": [
       "'Mr Molyneux said that his involvement with the games industry started almost by accident as back in the early days game making was more a hobby than a career.The head of Surrey\\'s Lionhead Studios was granted the honour for services to the computer games industry.Mr Molyneux has been a pivotal figure in the computer games industry for almost 20 years.He said he was surprised as much because, not too long ago, many people thought computer gaming was a fad.He left Bullfrog in 1997 to set up Lionhead Studios which was behind the ambitous and widely acclaimed game Black & White.Speaking to the BBC News website Mr Molyneux said receiving the honour was something of a surprise.\"It was thought to be like skateboarding,\" he said, \"a craze that everyone thought would go away.\"Mr Molyneux has been behind many of the ground-breaking games of the last 15 years such as Populous, Theme Park, Dungeon Keeper and Black and White.'"
      ]
     },
     "execution_count": 23,
     "metadata": {},
     "output_type": "execute_result"
    }
   ],
   "source": [
    "actual_summary"
   ]
  },
  {
   "cell_type": "code",
   "execution_count": 24,
   "id": "10302508",
   "metadata": {},
   "outputs": [
    {
     "name": "stdout",
     "output_type": "stream",
     "text": [
      "BLEU_Score :  0.7656994601878424\n"
     ]
    }
   ],
   "source": [
    "print(\"BLEU_Score : \",bleu_score(generated_summary,actual_summary))"
   ]
  },
  {
   "cell_type": "code",
   "execution_count": null,
   "id": "1a38300d",
   "metadata": {},
   "outputs": [],
   "source": []
  }
 ],
 "metadata": {
  "kernelspec": {
   "display_name": "Python 3 (ipykernel)",
   "language": "python",
   "name": "python3"
  },
  "language_info": {
   "codemirror_mode": {
    "name": "ipython",
    "version": 3
   },
   "file_extension": ".py",
   "mimetype": "text/x-python",
   "name": "python",
   "nbconvert_exporter": "python",
   "pygments_lexer": "ipython3",
   "version": "3.11.5"
  }
 },
 "nbformat": 4,
 "nbformat_minor": 5
}
